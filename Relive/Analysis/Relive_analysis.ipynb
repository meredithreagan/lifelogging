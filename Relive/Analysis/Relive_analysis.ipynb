{
 "cells": [
  {
   "cell_type": "code",
   "execution_count": 1,
   "metadata": {
    "collapsed": false,
    "nbpresent": {
     "id": "ecbe68ed-a5be-44d1-8eb8-58615d72582c"
    }
   },
   "outputs": [
    {
     "name": "stdout",
     "output_type": "stream",
     "text": [
      "Populating the interactive namespace from numpy and matplotlib\n"
     ]
    }
   ],
   "source": [
    "%pylab inline\n",
    "import os\n",
    "import matplotlib.pyplot as plt\n",
    "import numpy as np\n",
    "import pandas as pd\n",
    "import seaborn as sns\n",
    "\n",
    "from smile.log import log2dl\n",
    "from smile.log import log2csv\n"
   ]
  },
  {
   "cell_type": "code",
   "execution_count": 2,
   "metadata": {
    "collapsed": false
   },
   "outputs": [
    {
     "data": {
      "text/html": [
       "<div>\n",
       "<table border=\"1\" class=\"dataframe\">\n",
       "  <thead>\n",
       "    <tr style=\"text-align: right;\">\n",
       "      <th></th>\n",
       "      <th>img</th>\n",
       "      <th>log_num</th>\n",
       "      <th>log_time</th>\n",
       "      <th>resp_remember</th>\n",
       "      <th>resp_vivid</th>\n",
       "      <th>rt_remember</th>\n",
       "      <th>rt_vivid</th>\n",
       "      <th>trial_num</th>\n",
       "    </tr>\n",
       "  </thead>\n",
       "  <tbody>\n",
       "    <tr>\n",
       "      <th>0</th>\n",
       "      <td>image5.jpeg</td>\n",
       "      <td>0</td>\n",
       "      <td>16.915094</td>\n",
       "      <td>J</td>\n",
       "      <td>J</td>\n",
       "      <td>0.886764</td>\n",
       "      <td>2.202861</td>\n",
       "      <td>1</td>\n",
       "    </tr>\n",
       "    <tr>\n",
       "      <th>1</th>\n",
       "      <td>image2.jpeg</td>\n",
       "      <td>0</td>\n",
       "      <td>32.020494</td>\n",
       "      <td>F</td>\n",
       "      <td>J</td>\n",
       "      <td>1.148645</td>\n",
       "      <td>1.221990</td>\n",
       "      <td>2</td>\n",
       "    </tr>\n",
       "    <tr>\n",
       "      <th>2</th>\n",
       "      <td>image21.jpeg</td>\n",
       "      <td>0</td>\n",
       "      <td>46.006836</td>\n",
       "      <td>J</td>\n",
       "      <td>F</td>\n",
       "      <td>0.532556</td>\n",
       "      <td>0.722090</td>\n",
       "      <td>3</td>\n",
       "    </tr>\n",
       "    <tr>\n",
       "      <th>3</th>\n",
       "      <td>image19.jpeg</td>\n",
       "      <td>0</td>\n",
       "      <td>59.255608</td>\n",
       "      <td>J</td>\n",
       "      <td>F</td>\n",
       "      <td>0.569153</td>\n",
       "      <td>0.871668</td>\n",
       "      <td>4</td>\n",
       "    </tr>\n",
       "    <tr>\n",
       "      <th>4</th>\n",
       "      <td>image25.jpeg</td>\n",
       "      <td>0</td>\n",
       "      <td>72.287748</td>\n",
       "      <td>F</td>\n",
       "      <td>J</td>\n",
       "      <td>0.904206</td>\n",
       "      <td>0.941513</td>\n",
       "      <td>5</td>\n",
       "    </tr>\n",
       "  </tbody>\n",
       "</table>\n",
       "</div>"
      ],
      "text/plain": [
       "            img  log_num   log_time resp_remember resp_vivid  rt_remember  \\\n",
       "0   image5.jpeg        0  16.915094             J          J     0.886764   \n",
       "1   image2.jpeg        0  32.020494             F          J     1.148645   \n",
       "2  image21.jpeg        0  46.006836             J          F     0.532556   \n",
       "3  image19.jpeg        0  59.255608             J          F     0.569153   \n",
       "4  image25.jpeg        0  72.287748             F          J     0.904206   \n",
       "\n",
       "   rt_vivid  trial_num  \n",
       "0  2.202861          1  \n",
       "1  1.221990          2  \n",
       "2  0.722090          3  \n",
       "3  0.871668          4  \n",
       "4  0.941513          5  "
      ]
     },
     "execution_count": 2,
     "metadata": {},
     "output_type": "execute_result"
    }
   ],
   "source": [
    "df = pd.DataFrame(log2dl('C:/Users/Michael Gravina/Desktop/Transfer/CompMem/Projects/Lifelogging/Relive/data/test000/log_relive_2.slog'))  # Makes the slog into a dataframe\n",
    "\n",
    "df.head()  # Show the first 5 records of the dataframe\n",
    "\n",
    "#df[x:y]  # Show records x to y of the dataframe (remember these are indices, so they start at 0)\n",
    "\n",
    "#df['column'][x]  # Show xth record's entry in the specific field \"column\"\n",
    "\n",
    "#df.to_csv('spreadsheetname.csv')  # Save out the dataframe as a csv spreadhseet\n",
    "\n",
    "#df2 = pd.read('spreadsheetname.csv')  # Read a csv spreadsheet back into a dataframe"
   ]
  },
  {
   "cell_type": "code",
   "execution_count": null,
   "metadata": {
    "collapsed": true
   },
   "outputs": [],
   "source": []
  }
 ],
 "metadata": {
  "anaconda-cloud": {},
  "kernelspec": {
   "display_name": "Python [Root]",
   "language": "python",
   "name": "Python [Root]"
  },
  "language_info": {
   "codemirror_mode": {
    "name": "ipython",
    "version": 2
   },
   "file_extension": ".py",
   "mimetype": "text/x-python",
   "name": "python",
   "nbconvert_exporter": "python",
   "pygments_lexer": "ipython2",
   "version": "2.7.12"
  }
 },
 "nbformat": 4,
 "nbformat_minor": 0
}
